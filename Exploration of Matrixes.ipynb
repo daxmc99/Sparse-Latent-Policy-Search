{
 "cells": [
  {
   "cell_type": "code",
   "execution_count": 1,
   "metadata": {
    "scrolled": true
   },
   "outputs": [],
   "source": [
    "import numpy as np\n",
    "import matplotlib.pyplot as plt\n",
    "from numpy.linalg import norm\n",
    "from numpy.linalg import inv\n",
    "import scipy.stats\n",
    "import time\n",
    "import math\n",
    "from datetime import datetime\n",
    "import socket\n",
    "from configuration import * \n",
    "from Environment import BipedalWalkerEnvironment\n",
    "from sklearn import preprocessing"
   ]
  },
  {
   "cell_type": "code",
   "execution_count": 2,
   "metadata": {
    "scrolled": true
   },
   "outputs": [],
   "source": [
    "checkpoint = np.load('25/checkpoint.npy')\n",
    "M = checkpoint[0]\n",
    "W = checkpoint[1]\n",
    "tau = checkpoint[2]\n",
    "alpha = checkpoint[3]\n",
    "reward_sum = checkpoint[4]\n"
   ]
  },
  {
   "cell_type": "code",
   "execution_count": 3,
   "metadata": {
    "scrolled": true
   },
   "outputs": [
    {
     "name": "stdout",
     "output_type": "stream",
     "text": [
      "[[array([[  0.55283799,   3.75165348,   3.24196098,  -0.8435608 ],\n",
      "       [  2.79078964,  -2.69880113, -10.99948717,   2.18352251]])]\n",
      " [array([[ 2.08538679,  4.48634506,  9.4718004 ,  6.05269259],\n",
      "       [ 1.40693687,  3.2799733 , 10.42880028, -1.1602723 ]])]]\n"
     ]
    },
    {
     "data": {
      "text/plain": [
       "[<matplotlib.lines.Line2D at 0x7f7993f60860>,\n",
       " <matplotlib.lines.Line2D at 0x7f7993f609b0>,\n",
       " <matplotlib.lines.Line2D at 0x7f7993f60b00>,\n",
       " <matplotlib.lines.Line2D at 0x7f7993f60c50>]"
      ]
     },
     "execution_count": 3,
     "metadata": {},
     "output_type": "execute_result"
    },
    {
     "data": {
      "image/png": "[encoded data removed]",
      "text/plain": [
       "<Figure size 432x288 with 1 Axes>"
      ]
     },
     "metadata": {
      "needs_background": "light"
     },
     "output_type": "display_data"
    }
   ],
   "source": [
    "print(M)\n",
    "M.shape\n",
    "plt.plot(M[0][0])"
   ]
  },
  {
   "cell_type": "code",
   "execution_count": 4,
   "metadata": {
    "scrolled": false
   },
   "outputs": [
    {
     "data": {
      "text/plain": [
       "array([[array([[ 3.73284499e+02,  7.65072474e+01,  9.76857927e-04,\n",
       "         2.30827736e-02, -1.60004488e+02, -5.39062727e+00],\n",
       "       [-1.14796665e+03, -2.44093691e+02, -2.31544890e-03,\n",
       "        -2.88798531e-02,  5.69506081e+02,  1.68806104e+01]])],\n",
       "       [array([[-17.69206522,   4.7901442 ,   0.10079379,  25.76289686,\n",
       "         -0.21964001,  -0.03128958],\n",
       "       [  7.60188824,  -3.98953042,  -0.06699281,  -7.56317587,\n",
       "          0.20921822,   0.08350835]])]], dtype=object)"
      ]
     },
     "execution_count": 4,
     "metadata": {},
     "output_type": "execute_result"
    }
   ],
   "source": [
    "W"
   ]
  },
  {
   "cell_type": "code",
   "execution_count": 5,
   "metadata": {
    "scrolled": true
   },
   "outputs": [
    {
     "data": {
      "text/plain": [
       "array([[0.6653801852096991],\n",
       "       [0.6655198547786584]], dtype=object)"
      ]
     },
     "execution_count": 5,
     "metadata": {},
     "output_type": "execute_result"
    }
   ],
   "source": [
    "tau"
   ]
  },
  {
   "cell_type": "code",
   "execution_count": 6,
   "metadata": {
    "scrolled": true
   },
   "outputs": [
    {
     "data": {
      "text/plain": [
       "array([[array([[6.174861465602123e-06],\n",
       "       [0.00013684999023873737],\n",
       "       [1.1013474489321609],\n",
       "       [1.0843385754903996],\n",
       "       [2.5713796279385188e-05],\n",
       "       [0.003422266139027574]], dtype=object)],\n",
       "       [array([[0.02383753660689159],\n",
       "       [0.16574213730784],\n",
       "       [1.1399668607806073],\n",
       "       [0.012224986423953732],\n",
       "       [1.1805180491378922],\n",
       "       [1.0110746757738331]], dtype=object)]], dtype=object)"
      ]
     },
     "execution_count": 6,
     "metadata": {},
     "output_type": "execute_result"
    }
   ],
   "source": [
    "alpha"
   ]
  },
  {
   "cell_type": "code",
   "execution_count": 7,
   "metadata": {
    "scrolled": true
   },
   "outputs": [
    {
     "data": {
      "text/plain": [
       "3.067202158219556"
      ]
     },
     "execution_count": 7,
     "metadata": {},
     "output_type": "execute_result"
    }
   ],
   "source": [
    "reward_sum"
   ]
  },
  {
   "cell_type": "code",
   "execution_count": 8,
   "metadata": {
    "scrolled": true
   },
   "outputs": [],
   "source": [
    "checkpoint = np.load('60/checkpoint.npy')\n",
    "M = checkpoint[0]\n",
    "W = checkpoint[1]\n",
    "tau = checkpoint[2]\n",
    "alpha = checkpoint[3]\n",
    "reward_sum = checkpoint[4]\n"
   ]
  },
  {
   "cell_type": "code",
   "execution_count": 9,
   "metadata": {
    "scrolled": true
   },
   "outputs": [
    {
     "name": "stdout",
     "output_type": "stream",
     "text": [
      "[[array([[ -93.24855334, -161.53901662,   22.23436275,  177.03552424],\n",
      "       [ -32.07736148,  -54.75380243,    7.71455982,   49.21071773]])]\n",
      " [array([[  65.96848065,  122.14449849,   14.25154398,  -82.74798985],\n",
      "       [ -81.90735269, -146.35629412,   18.79490878,  144.44642132]])]]\n"
     ]
    },
    {
     "data": {
      "text/plain": [
       "[<matplotlib.lines.Line2D at 0x7f7993edf438>,\n",
       " <matplotlib.lines.Line2D at 0x7f7993edf5c0>,\n",
       " <matplotlib.lines.Line2D at 0x7f7993edf710>,\n",
       " <matplotlib.lines.Line2D at 0x7f7993edf860>]"
      ]
     },
     "execution_count": 9,
     "metadata": {},
     "output_type": "execute_result"
    },
    {
     "data": {
      "image/png": "[encoded data removed]",
      "text/plain": [
       "<Figure size 432x288 with 1 Axes>"
      ]
     },
     "metadata": {
      "needs_background": "light"
     },
     "output_type": "display_data"
    }
   ],
   "source": [
    "print(M)\n",
    "plt.plot(M[0][0])"
   ]
  },
  {
   "cell_type": "code",
   "execution_count": 10,
   "metadata": {
    "scrolled": false
   },
   "outputs": [
    {
     "data": {
      "text/plain": [
       "array([[array([[-0.02166052, -0.01839673, -0.01618066,  0.001754  , -0.02557867,\n",
       "         0.00512535],\n",
       "       [ 0.00603436,  0.00230146,  0.08228419,  0.01944941,  0.00820057,\n",
       "         0.01720871]])],\n",
       "       [array([[-0.00765158,  0.00898711, -0.01237372, -0.01647153, -0.01377583,\n",
       "         0.03695842],\n",
       "       [-0.02180779, -0.01800087,  0.11247732,  0.04442818, -0.00996371,\n",
       "        -0.00426579]])]], dtype=object)"
      ]
     },
     "execution_count": 10,
     "metadata": {},
     "output_type": "execute_result"
    }
   ],
   "source": [
    "W"
   ]
  },
  {
   "cell_type": "code",
   "execution_count": 11,
   "metadata": {
    "scrolled": true
   },
   "outputs": [
    {
     "data": {
      "text/plain": [
       "array([[0.6662331928768264],\n",
       "       [0.6662652818854146]], dtype=object)"
      ]
     },
     "execution_count": 11,
     "metadata": {},
     "output_type": "execute_result"
    }
   ],
   "source": [
    "tau"
   ]
  },
  {
   "cell_type": "code",
   "execution_count": 12,
   "metadata": {
    "scrolled": true
   },
   "outputs": [
    {
     "data": {
      "text/plain": [
       "array([[array([[1.2654174318190246],\n",
       "       [1.2675971904956704],\n",
       "       [1.271666307881902],\n",
       "       [1.2685755461856056],\n",
       "       [1.2633583994655877],\n",
       "       [1.2706960059637704]], dtype=object)],\n",
       "       [array([[1.2652989160319323],\n",
       "       [1.2676757129531482],\n",
       "       [1.2692735569409337],\n",
       "       [1.2678550152057708],\n",
       "       [1.2635149781309984],\n",
       "       [1.2701571184824008]], dtype=object)]], dtype=object)"
      ]
     },
     "execution_count": 12,
     "metadata": {},
     "output_type": "execute_result"
    }
   ],
   "source": [
    "alpha"
   ]
  },
  {
   "cell_type": "code",
   "execution_count": 13,
   "metadata": {
    "scrolled": true
   },
   "outputs": [
    {
     "data": {
      "text/plain": [
       "-9.58381240897828"
      ]
     },
     "execution_count": 13,
     "metadata": {},
     "output_type": "execute_result"
    }
   ],
   "source": [
    "reward_sum"
   ]
  },
  {
   "cell_type": "markdown",
   "metadata": {},
   "source": [
    "Notes: \n",
    "iteration 25 looks really good\n",
    "investigate that one next\n",
    "\n",
    "After about ~ 70 iterations values converge to awful results without progress"
   ]
  },
  {
   "cell_type": "code",
   "execution_count": 14,
   "metadata": {
    "scrolled": true
   },
   "outputs": [],
   "source": [
    "\n",
    "\n",
    "best_size=10\n",
    "sample_size=20\n",
    "number_of_groups=2\n",
    "#two degrees of freedom per group, knee and\n",
    "#dimensions_per_group=np.array([7,7]) \n",
    "dimensions_per_group=np.array([2,2])\n",
    "latent_dimension_size=6\n",
    "orginial_feature_dimension_size=4\n",
    "Time=5\n",
    "max_iterations=300\n",
    "max_inner_iterations=20\n",
    "#don't touch \n",
    "sigma2_M=100\n",
    "anti_convergence_factor=1.5\n",
    "tauA=1000\n",
    "tauB=1000\n",
    "alphaA=1\n",
    "alphaB=1\n",
    "initial_Tau= inv(np.array([10]).reshape(1,-1)**1.5)[0][0]\n",
    "initial_Alpha=1"
   ]
  },
  {
   "cell_type": "code",
   "execution_count": 15,
   "metadata": {
    "scrolled": true
   },
   "outputs": [],
   "source": [
    "# Exploration of basis function\n",
    "#initalization\n",
    "W=np.empty([number_of_groups,1],dtype=object)\n",
    "tau = np.empty([number_of_groups,1],dtype=object)\n",
    "alpha=np.empty([number_of_groups,1],dtype=object)\n",
    "initialM = np.empty([number_of_groups,1],dtype=object)\n",
    "\n",
    "for m in range(0,number_of_groups):\n",
    "    W[m][0] = np.random.randn(dimensions_per_group[m],latent_dimension_size)\n",
    "    tau[m][0]=initial_Tau\n",
    "    alpha[m]=initial_Alpha\n",
    "\n",
    "\n",
    "for m in range(0,number_of_groups):\n",
    "    initialM[m][0]=np.zeros([dimensions_per_group[m],orginial_feature_dimension_size])\n",
    "\n",
    "M = np.copy(initialM)"
   ]
  },
  {
   "cell_type": "code",
   "execution_count": 16,
   "metadata": {
    "scrolled": true
   },
   "outputs": [],
   "source": [
    "DoF=sum(dimensions_per_group)\n",
    "number_of_groups=dimensions_per_group.shape[0]    \n",
    "\n",
    "means = np.arange(-3,Time+3,3)\n",
    "BasisDim = len(means)\n",
    "variance = 3\n",
    "bafu = scipy.stats.norm.pdf(1,means,variance)\n",
    "bafu = bafu.reshape(-1,1)"
   ]
  },
  {
   "cell_type": "code",
   "execution_count": 17,
   "metadata": {
    "scrolled": true
   },
   "outputs": [
    {
     "name": "stdout",
     "output_type": "stream",
     "text": [
      "[-3  0  3  6]\n",
      "[[0.05467002]\n",
      " [0.12579441]\n",
      " [0.10648267]\n",
      " [0.03315905]]\n",
      "4\n"
     ]
    }
   ],
   "source": [
    "print(means)\n",
    "print(bafu)\n",
    "print(len(means))"
   ]
  },
  {
   "cell_type": "code",
   "execution_count": 18,
   "metadata": {
    "scrolled": true
   },
   "outputs": [
    {
     "name": "stdout",
     "output_type": "stream",
     "text": [
      "[[0.05467002 0.03315905 0.01799699 0.00874063 0.00379866]\n",
      " [0.12579441 0.10648267 0.08065691 0.05467002 0.03315905]\n",
      " [0.10648267 0.12579441 0.13298076 0.12579441 0.10648267]\n",
      " [0.03315905 0.05467002 0.08065691 0.10648267 0.12579441]]\n"
     ]
    }
   ],
   "source": [
    "for i in range(1,Time):\n",
    "    function_i = scipy.stats.norm.pdf(i+1,means,variance)\n",
    "    function_i = function_i.reshape(-1,1)\n",
    "    bafu = np.concatenate((bafu,function_i),1)\n",
    "print(bafu)"
   ]
  },
  {
   "cell_type": "code",
   "execution_count": 19,
   "metadata": {
    "scrolled": true
   },
   "outputs": [],
   "source": [
    "sum_bafu = np.sum(bafu,0)\n",
    "sum_bafu = sum_bafu.reshape(1,-1)\n",
    "sum_bafu = np.repeat(sum_bafu,len(means),0)\n",
    "Basisfunctions = np.divide(bafu,sum_bafu)"
   ]
  },
  {
   "cell_type": "code",
   "execution_count": 20,
   "metadata": {
    "scrolled": true
   },
   "outputs": [
    {
     "name": "stdout",
     "output_type": "stream",
     "text": [
      "[[0.17078718 0.10358766 0.0576288  0.02956034 0.01410911]\n",
      " [0.39297717 0.33264799 0.25827437 0.18489108 0.12316033]\n",
      " [0.33264799 0.39297717 0.42582245 0.42542992 0.39550115]\n",
      " [0.10358766 0.17078718 0.25827437 0.36011866 0.46722941]]\n",
      "(4, 5)\n"
     ]
    }
   ],
   "source": [
    "print(Basisfunctions)\n",
    "print(Basisfunctions.shape)"
   ]
  },
  {
   "cell_type": "code",
   "execution_count": 21,
   "metadata": {
    "scrolled": true
   },
   "outputs": [
    {
     "name": "stdout",
     "output_type": "stream",
     "text": [
      "[0.17078718 0.39297717 0.33264799 0.10358766]\n",
      "[0.10358766 0.33264799 0.39297717 0.17078718]\n",
      "[0.0576288  0.25827437 0.42582245 0.25827437]\n",
      "[0.02956034 0.18489108 0.42542992 0.36011866]\n",
      "[0.01410911 0.12316033 0.39550115 0.46722941]\n"
     ]
    }
   ],
   "source": [
    "for t in np.arange(0,Time).reshape(-1):\n",
    "    print(Basisfunctions[:,t])"
   ]
  },
  {
   "cell_type": "code",
   "execution_count": 22,
   "metadata": {
    "scrolled": true
   },
   "outputs": [
    {
     "data": {
      "text/latex": [
       "\\begin{align}\n",
       "sin(\\frac{t}T \\times 720 + \\frac{j-1}J \\times 360)\n",
       "\\end{align}"
      ],
      "text/plain": [
       "<IPython.core.display.Latex object>"
      ]
     },
     "metadata": {},
     "output_type": "display_data"
    }
   ],
   "source": [
    "%%latex\n",
    "\\begin{align}\n",
    "sin(\\frac{t}T \\times 720 + \\frac{j-1}J \\times 360)\n",
    "\\end{align}"
   ]
  },
  {
   "cell_type": "code",
   "execution_count": 23,
   "metadata": {
    "scrolled": true
   },
   "outputs": [
    {
     "name": "stdout",
     "output_type": "stream",
     "text": [
      "[[0.95345417]]\n",
      "[ 1  2  3  4  5  6  7  8  9 10 11 12 13 14 15 16 17 18 19 20]\n"
     ]
    }
   ],
   "source": [
    "steps = np.linspace(1,20,20,dtype=np.int_)\n",
    "pi = np.pi\n",
    "J = 10\n",
    "T = 20\n",
    "j = 2\n",
    "bafu = np.sin( (1/T)*(4.05*pi) + ((j-1)/J) * (2*pi) )\n",
    "bafu = bafu.reshape(-1,1)\n",
    "print(bafu)\n",
    "print(steps)\n",
    "\n",
    "\n",
    "#plt.plot(steps,function_i)"
   ]
  },
  {
   "cell_type": "code",
   "execution_count": 24,
   "metadata": {
    "scrolled": false
   },
   "outputs": [
    {
     "name": "stdout",
     "output_type": "stream",
     "text": [
      "[0. 0. 0. 0. 0. 0. 0. 0. 0. 0. 0. 0. 0. 0. 0. 0. 0. 0. 0. 0.]\n",
      "[ 0.59412106  0.95579301  0.94351216  0.56208338 -0.03925982 -0.62524266\n",
      " -0.9666001  -0.92977649 -0.529179    0.0784591   0.65540017  0.97591676\n",
      "  0.91460716  0.49545867 -0.1175374  -0.68454711 -0.98372863 -0.89802758\n",
      " -0.46097437  0.15643447]\n"
     ]
    },
    {
     "data": {
      "text/plain": [
       "(10, 20)"
      ]
     },
     "execution_count": 24,
     "metadata": {},
     "output_type": "execute_result"
    },
    {
     "data": {
      "text/plain": [
       "<Figure size 432x288 with 0 Axes>"
      ]
     },
     "metadata": {},
     "output_type": "display_data"
    }
   ],
   "source": [
    "fig = plt.figure()\n",
    "\n",
    "result = []\n",
    "result_arr = np.zeros((11,20))\n",
    "\n",
    "for j in range(1,J+1):\n",
    "    for t in range(1,T+1):\n",
    "        function_i = np.sin( (t/T)*(4.05*pi) + ((j-1)/J) * (2*pi) )\n",
    "        result.append(function_i)\n",
    "        #print(result)\n",
    "    # result_np = np.asarray(result).reshape(1,-1) unused\n",
    "    #print(result_np.shape)\n",
    "    result_arr[j,:] = result\n",
    "    result = []\n",
    "#print(result_arr[1,:])\n",
    "#print(result_arr[1])\n",
    "#print(result_arr.shape)\n",
    "from basis_model import *\n",
    "print(result_arr[0])\n",
    "result2 = PeriodicBasisModel().get_basis_functions(T,J)\n",
    "result_arr = result_arr[1:]\n",
    "result_arr = result_arr.reshape(J,T)\n",
    "print(result_arr[0])\n",
    "result_arr.shape"
   ]
  },
  {
   "cell_type": "code",
   "execution_count": 25,
   "metadata": {
    "scrolled": false
   },
   "outputs": [
    {
     "name": "stdout",
     "output_type": "stream",
     "text": [
      "(20,)\n"
     ]
    },
    {
     "data": {
      "text/plain": [
       "[<matplotlib.lines.Line2D at 0x7f7993ebd860>,\n",
       " <matplotlib.lines.Line2D at 0x7f7993ebda20>,\n",
       " <matplotlib.lines.Line2D at 0x7f7993ebdd68>,\n",
       " <matplotlib.lines.Line2D at 0x7f7993ec10f0>,\n",
       " <matplotlib.lines.Line2D at 0x7f7993ec1438>]"
      ]
     },
     "execution_count": 25,
     "metadata": {},
     "output_type": "execute_result"
    },
    {
     "data": {
      "image/png": "[encoded data removed]",
      "text/plain": [
       "<Figure size 432x288 with 1 Axes>"
      ]
     },
     "metadata": {
      "needs_background": "light"
     },
     "output_type": "display_data"
    }
   ],
   "source": [
    "# x = np.arange(0,5,0.1)\n",
    "# y = np.sin(x)\n",
    "# print(y)\n",
    "# plt.plot(x,y)\n",
    "print(result_arr[1].shape)\n",
    "t = np.linspace(0.,20.,20)\n",
    "plt.plot(t, result_arr[1],'b-' , t,result_arr[2], 'g-', t, result_arr[3], 'r-',result_arr[4],'m-',t,result_arr[5],'c-')"
   ]
  },
  {
   "cell_type": "code",
   "execution_count": 26,
   "metadata": {
    "scrolled": true
   },
   "outputs": [
    {
     "ename": "IndexError",
     "evalue": "index 10 is out of bounds for axis 0 with size 10",
     "output_type": "error",
     "traceback": [
      "\u001b[0;31m---------------------------------------------------------------------------\u001b[0m",
      "\u001b[0;31mIndexError\u001b[0m                                Traceback (most recent call last)",
      "\u001b[0;32m<ipython-input-26-01222abcacd5>\u001b[0m in \u001b[0;36m<module>\u001b[0;34m()\u001b[0m\n\u001b[0;32m----> 1\u001b[0;31m \u001b[0mplt\u001b[0m\u001b[0;34m.\u001b[0m\u001b[0mplot\u001b[0m\u001b[0;34m(\u001b[0m\u001b[0mt\u001b[0m\u001b[0;34m,\u001b[0m \u001b[0mresult_arr\u001b[0m\u001b[0;34m[\u001b[0m\u001b[0;36m6\u001b[0m\u001b[0;34m]\u001b[0m\u001b[0;34m,\u001b[0m\u001b[0;34m'b-'\u001b[0m \u001b[0;34m,\u001b[0m \u001b[0mt\u001b[0m\u001b[0;34m,\u001b[0m\u001b[0mresult_arr\u001b[0m\u001b[0;34m[\u001b[0m\u001b[0;36m7\u001b[0m\u001b[0;34m]\u001b[0m\u001b[0;34m,\u001b[0m \u001b[0;34m'g-'\u001b[0m\u001b[0;34m,\u001b[0m \u001b[0mt\u001b[0m\u001b[0;34m,\u001b[0m \u001b[0mresult_arr\u001b[0m\u001b[0;34m[\u001b[0m\u001b[0;36m8\u001b[0m\u001b[0;34m]\u001b[0m\u001b[0;34m,\u001b[0m \u001b[0;34m'r-'\u001b[0m\u001b[0;34m,\u001b[0m\u001b[0mresult_arr\u001b[0m\u001b[0;34m[\u001b[0m\u001b[0;36m9\u001b[0m\u001b[0;34m]\u001b[0m\u001b[0;34m,\u001b[0m\u001b[0;34m'm-'\u001b[0m\u001b[0;34m,\u001b[0m\u001b[0mt\u001b[0m\u001b[0;34m,\u001b[0m\u001b[0mresult_arr\u001b[0m\u001b[0;34m[\u001b[0m\u001b[0;36m10\u001b[0m\u001b[0;34m]\u001b[0m\u001b[0;34m,\u001b[0m\u001b[0;34m'c-'\u001b[0m\u001b[0;34m)\u001b[0m\u001b[0;34m\u001b[0m\u001b[0m\n\u001b[0m",
      "\u001b[0;31mIndexError\u001b[0m: index 10 is out of bounds for axis 0 with size 10"
     ]
    }
   ],
   "source": [
    "plt.plot(t, result_arr[6],'b-' , t,result_arr[7], 'g-', t, result_arr[8], 'r-',result_arr[9],'m-',t,result_arr[10],'c-')"
   ]
  },
  {
   "cell_type": "code",
   "execution_count": null,
   "metadata": {},
   "outputs": [],
   "source": []
  }
 ],
 "metadata": {
  "kernelspec": {
   "display_name": "Python 3",
   "language": "python",
   "name": "python3"
  },
  "language_info": {
   "codemirror_mode": {
    "name": "ipython",
    "version": 3
   },
   "file_extension": ".py",
   "mimetype": "text/x-python",
   "name": "python",
   "nbconvert_exporter": "python",
   "pygments_lexer": "ipython3",
   "version": "3.5.6"
  }
 },
 "nbformat": 4,
 "nbformat_minor": 2
}
